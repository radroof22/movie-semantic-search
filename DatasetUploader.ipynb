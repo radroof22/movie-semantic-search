{
 "cells": [
  {
   "cell_type": "markdown",
   "metadata": {},
   "source": [
    "# Setup Environment Variables"
   ]
  },
  {
   "cell_type": "code",
   "execution_count": 48,
   "metadata": {},
   "outputs": [
    {
     "data": {
      "text/plain": [
       "True"
      ]
     },
     "execution_count": 48,
     "metadata": {},
     "output_type": "execute_result"
    }
   ],
   "source": [
    "from dotenv import load_dotenv\n",
    "load_dotenv()"
   ]
  },
  {
   "cell_type": "markdown",
   "metadata": {},
   "source": [
    "# Load Dataset"
   ]
  },
  {
   "cell_type": "code",
   "execution_count": 160,
   "metadata": {},
   "outputs": [],
   "source": [
    "import pandas as pd"
   ]
  },
  {
   "cell_type": "code",
   "execution_count": 277,
   "metadata": {},
   "outputs": [],
   "source": [
    "df_summaries = pd.read_csv(\"./MovieSummaries/plot_summaries.txt\", delimiter=\"\\t\", usecols=[0, 1], names=[\"id\", \"text\"])"
   ]
  },
  {
   "cell_type": "code",
   "execution_count": 278,
   "metadata": {},
   "outputs": [],
   "source": [
    "df_metadata = pd.read_csv(\"./MovieSummaries/movie.metadata.tsv\", delimiter=\"\\t\", usecols=[0, 2, 3, 5], names=[\"id\", \"movie_title\", \"release_date\", \"runtime\"])"
   ]
  },
  {
   "cell_type": "code",
   "execution_count": 230,
   "metadata": {},
   "outputs": [],
   "source": [
    "df = pd.merge(df_metadata, df_summaries, how=\"inner\", on=\"id\")"
   ]
  },
  {
   "cell_type": "code",
   "execution_count": 231,
   "metadata": {},
   "outputs": [],
   "source": [
    "df = df.fillna(-1)\n",
    "df.text = df.text.astype(str)"
   ]
  },
  {
   "cell_type": "markdown",
   "metadata": {},
   "source": [
    "# Convert Summaries to Embeddings"
   ]
  },
  {
   "cell_type": "code",
   "execution_count": 135,
   "metadata": {},
   "outputs": [
    {
     "name": "stderr",
     "output_type": "stream",
     "text": [
      "sending upsert requests: 100%|██████████| 42204/42204 [12:47<00:00, 55.01it/s]  \n",
      "collecting async responses:   0%|          | 0/423 [11:58<?, ?it/s]\n"
     ]
    }
   ],
   "source": [
    "from sentence_transformers import SentenceTransformer\n",
    "model = SentenceTransformer(\"all-MiniLM-L6-v2\")"
   ]
  },
  {
   "cell_type": "code",
   "execution_count": null,
   "metadata": {},
   "outputs": [],
   "source": [
    "summary_embeddings = model.encode(df.text)"
   ]
  },
  {
   "cell_type": "code",
   "execution_count": 47,
   "metadata": {},
   "outputs": [],
   "source": [
    "import numpy as np\n",
    "np.save(\"./MovieSummaries/summary_embeddings.npy\", np.array(summary_embeddings))\n",
    "np.save(\"./MovieSummaries/summary_id.npy\", np.array(df.id))\n"
   ]
  },
  {
   "cell_type": "markdown",
   "metadata": {},
   "source": [
    "# Load Embeddings"
   ]
  },
  {
   "cell_type": "code",
   "execution_count": 12,
   "metadata": {},
   "outputs": [],
   "source": [
    "import numpy as np\n",
    "\n",
    "# Load Embeddings\n",
    "summary_embeddings = np.load(\"./MovieSummaries/summary_embeddings.npy\")\n",
    "ids = np.load(\"./MovieSummaries/summary_id.npy\", allow_pickle=True)"
   ]
  },
  {
   "cell_type": "code",
   "execution_count": 13,
   "metadata": {},
   "outputs": [
    {
     "data": {
      "text/plain": [
       "array([  975900,  9363483,   261236, ..., 34980460,   913762, 12476867])"
      ]
     },
     "execution_count": 13,
     "metadata": {},
     "output_type": "execute_result"
    }
   ],
   "source": [
    "ids"
   ]
  },
  {
   "cell_type": "markdown",
   "metadata": {},
   "source": [
    "# Upload to Pinecone"
   ]
  },
  {
   "cell_type": "code",
   "execution_count": 49,
   "metadata": {},
   "outputs": [],
   "source": [
    "import pinecone\n",
    "import os\n",
    "import time\n",
    "\n",
    "index_name = \"cmu-movie-summaries\""
   ]
  },
  {
   "cell_type": "code",
   "execution_count": 50,
   "metadata": {},
   "outputs": [],
   "source": [
    "api_key = os.getenv(\"PINECONE_API_KEY\")\n",
    "env = os.getenv(\"PINECONE_ENV\") # found next to api key"
   ]
  },
  {
   "cell_type": "code",
   "execution_count": 51,
   "metadata": {},
   "outputs": [],
   "source": [
    "pinecone.init(api_key=api_key, environment=env)"
   ]
  },
  {
   "cell_type": "code",
   "execution_count": 279,
   "metadata": {},
   "outputs": [],
   "source": [
    "if index_name in pinecone.list_indexes():\n",
    "    pinecone.delete_index(index_name)\n",
    "\n",
    "# create new index\n",
    "pinecone.create_index(\n",
    "    name=index_name,\n",
    "    metric=\"cosine\",\n",
    "    dimension=summary_embeddings.shape[1]\n",
    ")\n",
    "\n",
    "while not pinecone.describe_index(index_name).status[\"ready\"]:\n",
    "    time.sleep(1)"
   ]
  },
  {
   "cell_type": "code",
   "execution_count": 280,
   "metadata": {},
   "outputs": [
    {
     "data": {
      "text/plain": [
       "{'dimension': 384,\n",
       " 'index_fullness': 0.0,\n",
       " 'namespaces': {'': {'vector_count': 0}},\n",
       " 'total_vector_count': 0}"
      ]
     },
     "execution_count": 280,
     "metadata": {},
     "output_type": "execute_result"
    }
   ],
   "source": [
    "index = pinecone.GRPCIndex(index_name)\n",
    "index.describe_index_stats()"
   ]
  },
  {
   "cell_type": "code",
   "execution_count": 287,
   "metadata": {},
   "outputs": [],
   "source": [
    "import json\n",
    "\n",
    "df_embedding = pd.DataFrame({\n",
    "    \"wiki_id\": ids,\n",
    "    \"values\": summary_embeddings.tolist(),\n",
    "})\n",
    "\n",
    "df_export = pd.merge(df_embedding, df, left_on=\"wiki_id\", right_on=\"id\", how=\"inner\")\n",
    "\n",
    "df_json_string = df_export[[\"release_date\", \"runtime\", \"text\"]].to_json(orient=\"records\")\n",
    "\n",
    "df_export[\"metadata\"] = json.loads(df_json_string)\n",
    "df_export[\"id\"] = df_export[\"movie_title\"].str.encode(encoding=\"ascii\", errors=\"ignore\")\n"
   ]
  },
  {
   "cell_type": "code",
   "execution_count": 282,
   "metadata": {},
   "outputs": [
    {
     "data": {
      "text/html": [
       "<div>\n",
       "<style scoped>\n",
       "    .dataframe tbody tr th:only-of-type {\n",
       "        vertical-align: middle;\n",
       "    }\n",
       "\n",
       "    .dataframe tbody tr th {\n",
       "        vertical-align: top;\n",
       "    }\n",
       "\n",
       "    .dataframe thead th {\n",
       "        text-align: right;\n",
       "    }\n",
       "</style>\n",
       "<table border=\"1\" class=\"dataframe\">\n",
       "  <thead>\n",
       "    <tr style=\"text-align: right;\">\n",
       "      <th></th>\n",
       "      <th>id</th>\n",
       "      <th>values</th>\n",
       "      <th>metadata</th>\n",
       "    </tr>\n",
       "  </thead>\n",
       "  <tbody>\n",
       "    <tr>\n",
       "      <th>0</th>\n",
       "      <td>b'Ghosts of Mars'</td>\n",
       "      <td>[-0.030300872400403023, 0.05613691732287407, -...</td>\n",
       "      <td>{'release_date': '2001-08-24', 'runtime': 98.0...</td>\n",
       "    </tr>\n",
       "    <tr>\n",
       "      <th>1</th>\n",
       "      <td>b'White Of The Eye'</td>\n",
       "      <td>[-0.07510953396558762, 0.0031548410188406706, ...</td>\n",
       "      <td>{'release_date': '1987', 'runtime': 110.0, 'te...</td>\n",
       "    </tr>\n",
       "    <tr>\n",
       "      <th>2</th>\n",
       "      <td>b'A Woman in Flames'</td>\n",
       "      <td>[-0.06540518254041672, 0.020126990973949432, -...</td>\n",
       "      <td>{'release_date': '1983', 'runtime': 106.0, 'te...</td>\n",
       "    </tr>\n",
       "    <tr>\n",
       "      <th>3</th>\n",
       "      <td>b\"The Sorcerer's Apprentice\"</td>\n",
       "      <td>[-0.019909139722585678, 0.07503096014261246, -...</td>\n",
       "      <td>{'release_date': '2002', 'runtime': 86.0, 'tex...</td>\n",
       "    </tr>\n",
       "    <tr>\n",
       "      <th>4</th>\n",
       "      <td>b'Little city'</td>\n",
       "      <td>[-0.07269977033138275, -0.07025031000375748, 0...</td>\n",
       "      <td>{'release_date': '1997-04-04', 'runtime': 93.0...</td>\n",
       "    </tr>\n",
       "  </tbody>\n",
       "</table>\n",
       "</div>"
      ],
      "text/plain": [
       "                             id  \\\n",
       "0             b'Ghosts of Mars'   \n",
       "1           b'White Of The Eye'   \n",
       "2          b'A Woman in Flames'   \n",
       "3  b\"The Sorcerer's Apprentice\"   \n",
       "4                b'Little city'   \n",
       "\n",
       "                                              values  \\\n",
       "0  [-0.030300872400403023, 0.05613691732287407, -...   \n",
       "1  [-0.07510953396558762, 0.0031548410188406706, ...   \n",
       "2  [-0.06540518254041672, 0.020126990973949432, -...   \n",
       "3  [-0.019909139722585678, 0.07503096014261246, -...   \n",
       "4  [-0.07269977033138275, -0.07025031000375748, 0...   \n",
       "\n",
       "                                            metadata  \n",
       "0  {'release_date': '2001-08-24', 'runtime': 98.0...  \n",
       "1  {'release_date': '1987', 'runtime': 110.0, 'te...  \n",
       "2  {'release_date': '1983', 'runtime': 106.0, 'te...  \n",
       "3  {'release_date': '2002', 'runtime': 86.0, 'tex...  \n",
       "4  {'release_date': '1997-04-04', 'runtime': 93.0...  "
      ]
     },
     "execution_count": 282,
     "metadata": {},
     "output_type": "execute_result"
    }
   ],
   "source": [
    "df_export[[\"id\", \"values\", \"metadata\"]].head()"
   ]
  },
  {
   "cell_type": "code",
   "execution_count": 290,
   "metadata": {},
   "outputs": [
    {
     "data": {
      "text/html": [
       "<div>\n",
       "<style scoped>\n",
       "    .dataframe tbody tr th:only-of-type {\n",
       "        vertical-align: middle;\n",
       "    }\n",
       "\n",
       "    .dataframe tbody tr th {\n",
       "        vertical-align: top;\n",
       "    }\n",
       "\n",
       "    .dataframe thead th {\n",
       "        text-align: right;\n",
       "    }\n",
       "</style>\n",
       "<table border=\"1\" class=\"dataframe\">\n",
       "  <thead>\n",
       "    <tr style=\"text-align: right;\">\n",
       "      <th></th>\n",
       "      <th>wiki_id</th>\n",
       "      <th>values</th>\n",
       "      <th>id</th>\n",
       "      <th>movie_title</th>\n",
       "      <th>release_date</th>\n",
       "      <th>runtime</th>\n",
       "      <th>text</th>\n",
       "      <th>metadata</th>\n",
       "    </tr>\n",
       "  </thead>\n",
       "  <tbody>\n",
       "  </tbody>\n",
       "</table>\n",
       "</div>"
      ],
      "text/plain": [
       "Empty DataFrame\n",
       "Columns: [wiki_id, values, id, movie_title, release_date, runtime, text, metadata]\n",
       "Index: []"
      ]
     },
     "execution_count": 290,
     "metadata": {},
     "output_type": "execute_result"
    }
   ],
   "source": [
    "df_export[df_export[\"id\"] == \"\"]"
   ]
  },
  {
   "cell_type": "code",
   "execution_count": 283,
   "metadata": {},
   "outputs": [
    {
     "name": "stderr",
     "output_type": "stream",
     "text": [
      "sending upsert requests: 100%|█████████▉| 42200/42203 [00:58<00:00, 2018.48it/s]"
     ]
    },
    {
     "ename": "PineconeException",
     "evalue": "UNKNOWN:Error received from peer ipv4:34.160.88.44:443 {created_time:\"2023-09-02T00:38:31.060764-04:00\", grpc_status:3, grpc_message:\"Vector ID must not be empty\"}",
     "output_type": "error",
     "traceback": [
      "\u001b[0;31m---------------------------------------------------------------------------\u001b[0m",
      "\u001b[0;31m_MultiThreadedRendezvous\u001b[0m                  Traceback (most recent call last)",
      "File \u001b[0;32m/opt/homebrew/lib/python3.11/site-packages/pinecone/core/grpc/index_grpc.py:282\u001b[0m, in \u001b[0;36mPineconeGrpcFuture.result\u001b[0;34m(self, timeout)\u001b[0m\n\u001b[1;32m    281\u001b[0m \u001b[39mtry\u001b[39;00m:\n\u001b[0;32m--> 282\u001b[0m     \u001b[39mreturn\u001b[39;00m \u001b[39mself\u001b[39;49m\u001b[39m.\u001b[39;49m_delegate\u001b[39m.\u001b[39;49mresult(timeout\u001b[39m=\u001b[39;49mtimeout)\n\u001b[1;32m    283\u001b[0m \u001b[39mexcept\u001b[39;00m _MultiThreadedRendezvous \u001b[39mas\u001b[39;00m e:\n",
      "File \u001b[0;32m/opt/homebrew/lib/python3.11/site-packages/grpc/_channel.py:881\u001b[0m, in \u001b[0;36m_MultiThreadedRendezvous.result\u001b[0;34m(self, timeout)\u001b[0m\n\u001b[1;32m    880\u001b[0m \u001b[39melse\u001b[39;00m:\n\u001b[0;32m--> 881\u001b[0m     \u001b[39mraise\u001b[39;00m \u001b[39mself\u001b[39m\n",
      "\u001b[0;31m_MultiThreadedRendezvous\u001b[0m: <_MultiThreadedRendezvous of RPC that terminated with:\n\tstatus = StatusCode.INVALID_ARGUMENT\n\tdetails = \"Vector ID must not be empty\"\n\tdebug_error_string = \"UNKNOWN:Error received from peer ipv4:34.160.88.44:443 {created_time:\"2023-09-02T00:38:31.060764-04:00\", grpc_status:3, grpc_message:\"Vector ID must not be empty\"}\"\n>",
      "\nThe above exception was the direct cause of the following exception:\n",
      "\u001b[0;31mPineconeException\u001b[0m                         Traceback (most recent call last)",
      "Cell \u001b[0;32mIn[283], line 1\u001b[0m\n\u001b[0;32m----> 1\u001b[0m index\u001b[39m.\u001b[39;49mupsert_from_dataframe(df_export[[\u001b[39m\"\u001b[39;49m\u001b[39mid\u001b[39;49m\u001b[39m\"\u001b[39;49m, \u001b[39m\"\u001b[39;49m\u001b[39mvalues\u001b[39;49m\u001b[39m\"\u001b[39;49m, \u001b[39m\"\u001b[39;49m\u001b[39mmetadata\u001b[39;49m\u001b[39m\"\u001b[39;49m]], batch_size\u001b[39m=\u001b[39;49m\u001b[39m100\u001b[39;49m)\n",
      "File \u001b[0;32m/opt/homebrew/lib/python3.11/site-packages/pinecone/core/grpc/index_grpc.py:485\u001b[0m, in \u001b[0;36mGRPCIndex.upsert_from_dataframe\u001b[0;34m(self, df, namespace, batch_size, use_async_requests, show_progress)\u001b[0m\n\u001b[1;32m    482\u001b[0m     results\u001b[39m.\u001b[39mappend(res)\n\u001b[1;32m    484\u001b[0m \u001b[39mif\u001b[39;00m use_async_requests:\n\u001b[0;32m--> 485\u001b[0m     results \u001b[39m=\u001b[39m [async_result\u001b[39m.\u001b[39;49mresult() \u001b[39mfor\u001b[39;49;00m async_result \u001b[39min\u001b[39;49;00m tqdm(results, desc\u001b[39m=\u001b[39;49m\u001b[39m\"\u001b[39;49m\u001b[39mcollecting async responses\u001b[39;49m\u001b[39m\"\u001b[39;49m)]\n\u001b[1;32m    487\u001b[0m upserted_count \u001b[39m=\u001b[39m \u001b[39m0\u001b[39m\n\u001b[1;32m    488\u001b[0m \u001b[39mfor\u001b[39;00m res \u001b[39min\u001b[39;00m results:\n",
      "File \u001b[0;32m/opt/homebrew/lib/python3.11/site-packages/pinecone/core/grpc/index_grpc.py:485\u001b[0m, in \u001b[0;36m<listcomp>\u001b[0;34m(.0)\u001b[0m\n\u001b[1;32m    482\u001b[0m     results\u001b[39m.\u001b[39mappend(res)\n\u001b[1;32m    484\u001b[0m \u001b[39mif\u001b[39;00m use_async_requests:\n\u001b[0;32m--> 485\u001b[0m     results \u001b[39m=\u001b[39m [async_result\u001b[39m.\u001b[39;49mresult() \u001b[39mfor\u001b[39;00m async_result \u001b[39min\u001b[39;00m tqdm(results, desc\u001b[39m=\u001b[39m\u001b[39m\"\u001b[39m\u001b[39mcollecting async responses\u001b[39m\u001b[39m\"\u001b[39m)]\n\u001b[1;32m    487\u001b[0m upserted_count \u001b[39m=\u001b[39m \u001b[39m0\u001b[39m\n\u001b[1;32m    488\u001b[0m \u001b[39mfor\u001b[39;00m res \u001b[39min\u001b[39;00m results:\n",
      "File \u001b[0;32m/opt/homebrew/lib/python3.11/site-packages/pinecone/core/grpc/index_grpc.py:284\u001b[0m, in \u001b[0;36mPineconeGrpcFuture.result\u001b[0;34m(self, timeout)\u001b[0m\n\u001b[1;32m    282\u001b[0m     \u001b[39mreturn\u001b[39;00m \u001b[39mself\u001b[39m\u001b[39m.\u001b[39m_delegate\u001b[39m.\u001b[39mresult(timeout\u001b[39m=\u001b[39mtimeout)\n\u001b[1;32m    283\u001b[0m \u001b[39mexcept\u001b[39;00m _MultiThreadedRendezvous \u001b[39mas\u001b[39;00m e:\n\u001b[0;32m--> 284\u001b[0m     \u001b[39mraise\u001b[39;00m PineconeException(e\u001b[39m.\u001b[39m_state\u001b[39m.\u001b[39mdebug_error_string) \u001b[39mfrom\u001b[39;00m \u001b[39me\u001b[39;00m\n",
      "\u001b[0;31mPineconeException\u001b[0m: UNKNOWN:Error received from peer ipv4:34.160.88.44:443 {created_time:\"2023-09-02T00:38:31.060764-04:00\", grpc_status:3, grpc_message:\"Vector ID must not be empty\"}"
     ]
    },
    {
     "name": "stderr",
     "output_type": "stream",
     "text": [
      "sending upsert requests: 100%|██████████| 42203/42203 [01:16<00:00, 2018.48it/s]"
     ]
    }
   ],
   "source": [
    "index.upsert_from_dataframe(df_export[[\"id\", \"values\", \"metadata\"]], batch_size=100)"
   ]
  },
  {
   "cell_type": "code",
   "execution_count": 289,
   "metadata": {},
   "outputs": [
    {
     "data": {
      "text/plain": [
       "{'dimension': 384,\n",
       " 'index_fullness': 0.39821,\n",
       " 'namespaces': {'': {'vector_count': 39821}},\n",
       " 'total_vector_count': 39821}"
      ]
     },
     "execution_count": 289,
     "metadata": {},
     "output_type": "execute_result"
    }
   ],
   "source": [
    "index.describe_index_stats()"
   ]
  },
  {
   "cell_type": "markdown",
   "metadata": {},
   "source": [
    "# Search"
   ]
  },
  {
   "cell_type": "code",
   "execution_count": 197,
   "metadata": {},
   "outputs": [],
   "source": [
    "query = \"cloud high above London\""
   ]
  },
  {
   "cell_type": "code",
   "execution_count": 198,
   "metadata": {},
   "outputs": [],
   "source": [
    "query_embedding = model.encode(query)"
   ]
  },
  {
   "cell_type": "code",
   "execution_count": 199,
   "metadata": {},
   "outputs": [],
   "source": [
    "res = index.query(\n",
    "    vector=query_embedding,\n",
    "    top_k=3,\n",
    ")"
   ]
  },
  {
   "cell_type": "code",
   "execution_count": 200,
   "metadata": {},
   "outputs": [
    {
     "data": {
      "text/plain": [
       "{'matches': [{'id': 'Mary Poppins',\n",
       "              'metadata': {},\n",
       "              'score': 0.16821064,\n",
       "              'sparse_values': {'indices': [], 'values': []},\n",
       "              'values': []},\n",
       "             {'id': 'Henry V',\n",
       "              'metadata': {},\n",
       "              'score': 0.14026843,\n",
       "              'sparse_values': {'indices': [], 'values': []},\n",
       "              'values': []},\n",
       "             {'id': \"The Sorcerer's Apprentice\",\n",
       "              'metadata': {},\n",
       "              'score': 0.08186696,\n",
       "              'sparse_values': {'indices': [], 'values': []},\n",
       "              'values': []}],\n",
       " 'namespace': ''}"
      ]
     },
     "execution_count": 200,
     "metadata": {},
     "output_type": "execute_result"
    }
   ],
   "source": [
    "res"
   ]
  },
  {
   "cell_type": "code",
   "execution_count": null,
   "metadata": {},
   "outputs": [],
   "source": [
    "pinecone.delete_index(index_name)"
   ]
  }
 ],
 "metadata": {
  "kernelspec": {
   "display_name": "io",
   "language": "python",
   "name": "python3"
  },
  "language_info": {
   "codemirror_mode": {
    "name": "ipython",
    "version": 3
   },
   "file_extension": ".py",
   "mimetype": "text/x-python",
   "name": "python",
   "nbconvert_exporter": "python",
   "pygments_lexer": "ipython3",
   "version": "3.11.4"
  },
  "orig_nbformat": 4
 },
 "nbformat": 4,
 "nbformat_minor": 2
}
